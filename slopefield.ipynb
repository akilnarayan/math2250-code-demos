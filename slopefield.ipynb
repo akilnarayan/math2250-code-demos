{
 "cells": [
  {
   "cell_type": "code",
   "execution_count": 1,
   "metadata": {},
   "outputs": [],
   "source": [
    "import matplotlib.pyplot as plt\n",
    "from scipy.integrate import ode\n",
    "import numpy as np"
   ]
  },
  {
   "cell_type": "code",
   "execution_count": 2,
   "metadata": {},
   "outputs": [],
   "source": [
    "# Vector field function\n",
    "# The differential equation is x' = f(t,x)\n",
    "def f(t,x):\n",
    "  return t/np.sqrt(t**2+x**2)\n",
    "\n",
    "# Range over which to plot slope field\n",
    "trange = [-5, 5]\n",
    "xrange = [-5, 5]"
   ]
  },
  {
   "cell_type": "code",
   "execution_count": 3,
   "metadata": {},
   "outputs": [],
   "source": [
    "# Vector field allocation\n",
    "T,X = np.meshgrid( np.linspace(trange[0],trange[1],20),np.linspace(xrange[0],xrange[1],20) )\n",
    "U = np.ones(T.shape)\n",
    "V = f(T,X)"
   ]
  },
  {
   "cell_type": "code",
   "execution_count": 4,
   "metadata": {},
   "outputs": [],
   "source": [
    "# Normalize slopes\n",
    "N = np.sqrt(U**2+V**2)  \n",
    "U2, V2 = U/N, V/N"
   ]
  },
  {
   "cell_type": "code",
   "execution_count": 5,
   "metadata": {},
   "outputs": [],
   "source": [
    "def vf(t,x):\n",
    "  dx=np.zeros(2)\n",
    "  dx[0]=1\n",
    "  dx[1]=f(t,x[1])\n",
    "  return dx"
   ]
  },
  {
   "cell_type": "code",
   "execution_count": 6,
   "metadata": {
    "scrolled": false
   },
   "outputs": [],
   "source": [
    "# Plot\n",
    "fig, ax=plt.subplots(1, 1, figsize=(10,10))\n",
    "ax.quiver( T,X,U2, V2)\n",
    "\n",
    "plt.axis('equal')\n",
    "plt.axis('square')\n",
    "plt.xlim([-5,5])\n",
    "plt.ylim([-5,5])\n",
    "plt.xlabel(r\"$t$\")\n",
    "plt.ylabel(r\"$x$\")\n",
    "ax.xaxis.label.set_fontsize(25)\n",
    "ax.yaxis.label.set_fontsize(25)"
   ]
  }
 ],
 "metadata": {
  "kernelspec": {
   "display_name": "Python 3",
   "language": "python",
   "name": "python3"
  },
  "language_info": {
   "codemirror_mode": {
    "name": "ipython",
    "version": 3
   },
   "file_extension": ".py",
   "mimetype": "text/x-python",
   "name": "python",
   "nbconvert_exporter": "python",
   "pygments_lexer": "ipython3",
   "version": "3.6.5"
  }
 },
 "nbformat": 4,
 "nbformat_minor": 2
}
