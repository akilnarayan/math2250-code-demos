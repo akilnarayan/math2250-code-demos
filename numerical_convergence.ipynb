{
 "cells": [
  {
   "cell_type": "code",
   "execution_count": null,
   "metadata": {
    "scrolled": true
   },
   "outputs": [],
   "source": [
    "%matplotlib inline\n",
    "import numpy as np\n",
    "from matplotlib import pyplot as plt\n",
    "from matplotlib import rc\n",
    "\n",
    "from numerical_utils import euler, improved_euler, runge_kutta_4\n",
    "\n",
    "# Define DE:\n",
    "# y'(x) = f(x,y),    y(x0) = y0\n",
    "f = lambda x,y: np.exp(-x) - y\n",
    "[x0,y0] = [0,0.3]\n",
    "\n",
    "# Simulate for these stepsizes:\n",
    "Nh = 10\n",
    "hs = np.array([0.8*2**(-i) for i in range(Nh)])\n",
    "T = hs[0]*10\n",
    "Ns = np.array([int(T/hs[0])*2**(i) for i in range(Nh)])\n",
    "\n",
    "fe_error = np.zeros(Nh)\n",
    "ie_error = np.zeros(Nh)\n",
    "rk_error = np.zeros(Nh)\n",
    "\n",
    "# Compute \"exact\": solution\n",
    "S = 10\n",
    "yexact = runge_kutta_4(f,x0,y0,hs[-1]/S,S*Ns[-1])[0,-1]\n",
    "\n",
    "for (i, (N,h)) in enumerate(zip(Ns, hs)):\n",
    "    fe_error[i] = np.abs(yexact -  euler(f,x0,y0,h,N)[0,-1])\n",
    "    ie_error[i] = np.abs(yexact - improved_euler(f,x0,y0,h,N)[0,-1])\n",
    "    rk_error[i] = np.abs(yexact -  runge_kutta_4(f,x0,y0,h,N)[0,-1])\n",
    "\n",
    "font = {'weight' : 'bold',\n",
    "        'size'   : 22}\n",
    "rc('font', **font)\n",
    "fig=plt.figure(figsize=(16, 10))\n",
    "\n",
    "plt.plot(np.log(hs), np.log(fe_error), 'b.--', linewidth=1.5, markersize=20)\n",
    "plt.plot(np.log(hs), np.log(ie_error), 'r*--', linewidth=1.5, markersize=20)\n",
    "plt.plot(np.log(hs), np.log(rk_error), 'kv--', linewidth=1.5, markersize=20)\n",
    "\n",
    "# Slope=1\n",
    "plt.plot((-5,-4), (-10,-9), 'k', linewidth=3)\n",
    "plt.gca().annotate(r'Slope$=1$', xy=(-5, -8), horizontalalignment='left')\n",
    "\n",
    "# Slope=2\n",
    "plt.plot((-5,-4), (-16,-14), 'k', linewidth=3)\n",
    "plt.gca().annotate(r'Slope$=2$', xy=(-5, -14), horizontalalignment='left')\n",
    "\n",
    "# Slope=4\n",
    "plt.plot((-5,-4), (-28,-24), 'k', linewidth=3)\n",
    "plt.gca().annotate(r'Slope$=4$', xy=(-5, -23), horizontalalignment='left')\n",
    "\n",
    "plt.xlabel('$\\log h$')\n",
    "plt.ylabel('$\\log |y_N - y(T)|$')\n",
    "plt.title('Convergence plot: errors at time $T = {0:1.2f}$'.format(x0 + h*N))\n",
    "plt.legend(['Euler solution error', 'Improved Euler solution error', 'Runge Kutta 4 error'])\n",
    "plt.show();"
   ]
  },
  {
   "cell_type": "code",
   "execution_count": null,
   "metadata": {},
   "outputs": [],
   "source": []
  }
 ],
 "metadata": {
  "kernelspec": {
   "display_name": "Python 3",
   "language": "python",
   "name": "python3"
  },
  "language_info": {
   "codemirror_mode": {
    "name": "ipython",
    "version": 3
   },
   "file_extension": ".py",
   "mimetype": "text/x-python",
   "name": "python",
   "nbconvert_exporter": "python",
   "pygments_lexer": "ipython3",
   "version": "3.6.5"
  }
 },
 "nbformat": 4,
 "nbformat_minor": 2
}
