{
 "cells": [
  {
   "cell_type": "code",
   "execution_count": null,
   "metadata": {},
   "outputs": [],
   "source": [
    "%matplotlib inline\n",
    "import numpy as np\n",
    "from matplotlib import pyplot as plt\n",
    "from matplotlib import rc\n",
    "\n",
    "from numerical_utils import euler, improved_euler, runge_kutta_4\n",
    "\n",
    "# Define DE:\n",
    "# y'(x) = f(x,y),    y(x0) = y0\n",
    "f = lambda x,y: np.exp(-x) - y\n",
    "[x0,y0] = [0,0.3]\n",
    "\n",
    "# Euler stepsize and number of steps\n",
    "h = 1\n",
    "N = 10\n",
    "\n",
    "ye = euler(f,x0,y0,h,N)\n",
    "xe = np.linspace(x0, x0 + N*h, N+1)\n",
    "\n",
    "yi = improved_euler(f,x0,y0,h,N)\n",
    "xi = np.linspace(x0,x0 + N*h, N+1)\n",
    "\n",
    "y = runge_kutta_4(f,x0,y0,h,N)\n",
    "x = np.linspace(x0,x0 + N*h, N+1)\n",
    "\n",
    "# A very refined \"exact\" solution computed using a very small stepsize\n",
    "S = 10\n",
    "yexact = runge_kutta_4(f,x0,y0,h/S,S*N)\n",
    "xexact = np.linspace(x0, x0 + N*h, S*N+1)\n",
    "\n",
    "font = {'weight' : 'bold',\n",
    "        'size'   : 22}\n",
    "rc('font', **font)\n",
    "fig=plt.figure(figsize=(16, 10))\n",
    "\n",
    "plt.plot(xexact, yexact.T, 'b', linewidth=3)\n",
    "plt.plot(xe, ye.T, 'r.--', linewidth=1.5, markersize=20)\n",
    "plt.plot(xi, yi.T, 'g.--', linewidth=1.5, markersize=20)\n",
    "plt.plot(x, y.T, 'k.--', linewidth=1.5, markersize=20)\n",
    "plt.xlabel('$x$')\n",
    "plt.ylabel('$y(x)$')\n",
    "plt.legend(['Exact solution', 'Euler solution', 'Improved Euler solution', 'Runge Kutta solution'])\n",
    "plt.show();"
   ]
  },
  {
   "cell_type": "code",
   "execution_count": null,
   "metadata": {},
   "outputs": [],
   "source": []
  }
 ],
 "metadata": {
  "kernelspec": {
   "display_name": "Python 3",
   "language": "python",
   "name": "python3"
  },
  "language_info": {
   "codemirror_mode": {
    "name": "ipython",
    "version": 3
   },
   "file_extension": ".py",
   "mimetype": "text/x-python",
   "name": "python",
   "nbconvert_exporter": "python",
   "pygments_lexer": "ipython3",
   "version": "3.6.5"
  }
 },
 "nbformat": 4,
 "nbformat_minor": 2
}
